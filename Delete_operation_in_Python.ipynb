{
  "nbformat": 4,
  "nbformat_minor": 0,
  "metadata": {
    "colab": {
      "name": "Delete operation in Python.ipynb",
      "provenance": []
    },
    "kernelspec": {
      "name": "python3",
      "display_name": "Python 3"
    }
  },
  "cells": [
    {
      "cell_type": "code",
      "metadata": {
        "id": "yQzm6eDx7n2k"
      },
      "source": [
        "class BinarySearchTreeNode:\n",
        "    def __init__(self, data):\n",
        "        self.data = data\n",
        "        self.left = None\n",
        "        self.right = None\n",
        "\n",
        "    def add_child(self, data):\n",
        "        if data == self.data:\n",
        "            return # node already exist\n",
        "\n",
        "        if data < self.data:\n",
        "            if self.left:\n",
        "                self.left.add_child(data)\n",
        "            else:\n",
        "                self.left = BinarySearchTreeNode(data)\n",
        "        else:\n",
        "            if self.right:\n",
        "                self.right.add_child(data)\n",
        "            else:\n",
        "                self.right = BinarySearchTreeNode(data)\n",
        "     \n",
        "    def find_min(self):\n",
        "        if self.left is None:\n",
        "            return self.data\n",
        "        return self.left.find_min()\n",
        "    def in_order_traversal(self):\n",
        "        elements = []\n",
        "        if self.left:\n",
        "            elements += self.left.in_order_traversal()\n",
        "\n",
        "        elements.append(self.data)\n",
        "\n",
        "        if self.right:\n",
        "            elements += self.right.in_order_traversal()\n",
        "\n",
        "        return elements\n",
        "  \n",
        "\n",
        "\n",
        "\n",
        "    def delete(self,val):\n",
        "        if self.data>val:\n",
        "           if self.left:\n",
        "              self.left=self.left.delete(val)\n",
        "        elif self.data<val:\n",
        "           if self.right:\n",
        "              self.right=self.right.delete(val)\n",
        "        else:\n",
        "          if self.left is None and self.right is None:\n",
        "             return None\n",
        "          elif self.left is None:\n",
        "               return self.right\n",
        "          elif self.right is None:\n",
        "               return self.left\n",
        "          min=self.right.find_min()\n",
        "          self.data=min\n",
        "          self.right=self.right.delete(min)\n",
        "        return self\n",
        "def build_tree(elements):\n",
        "    print(\"Building tree with these elements:\",elements)\n",
        "    root = BinarySearchTreeNode(elements[0])\n",
        "\n",
        "    for i in range(1,len(elements)):\n",
        "        root.add_child(elements[i])\n",
        "\n",
        "    return root\n",
        "\n",
        "\n",
        "        \n",
        "             "
      ],
      "execution_count": 16,
      "outputs": []
    },
    {
      "cell_type": "code",
      "metadata": {
        "id": "Q5nQohx1GGoc",
        "outputId": "bf378e9c-36be-4719-8c8f-0532dbc227e4",
        "colab": {
          "base_uri": "https://localhost:8080/",
          "height": 52
        }
      },
      "source": [
        "if __name__ == '__main__':\n",
        "    numbers_tree = build_tree([17, 4, 1, 20, 9, 23, 18, 34])\n",
        "    numbers_tree.delete(20)\n",
        "    print(\"After deleting 20 \",numbers_tree.in_order_traversal()) # this should print [1, 4, 9, 17, 18, 23, 34]"
      ],
      "execution_count": 17,
      "outputs": [
        {
          "output_type": "stream",
          "text": [
            "Building tree with these elements: [17, 4, 1, 20, 9, 23, 18, 34]\n",
            "After deleting 20  [1, 4, 9, 17, 18, 23, 34]\n"
          ],
          "name": "stdout"
        }
      ]
    }
  ]
}