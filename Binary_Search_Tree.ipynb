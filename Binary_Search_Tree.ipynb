{
  "nbformat": 4,
  "nbformat_minor": 0,
  "metadata": {
    "colab": {
      "name": "Binary Search Tree.ipynb",
      "provenance": []
    },
    "kernelspec": {
      "name": "python3",
      "display_name": "Python 3"
    }
  },
  "cells": [
    {
      "cell_type": "code",
      "metadata": {
        "id": "PouWlE6anAXt",
        "colab_type": "code",
        "colab": {}
      },
      "source": [
        "class BinarySearchTreeNode:\n",
        "  def __init__(self,data):\n",
        "    self.data=data\n",
        "    self.left=None\n",
        "    self.right=None\n",
        "  def add_child(self,data):\n",
        "    if data==self.data:\n",
        "      return\n",
        "    if data<self.data:\n",
        "      if self.left:\n",
        "        self.left.add_child(data)\n",
        "      else:\n",
        "        self.left=BinarySearchTreeNode(data)\n",
        "    if data>self.data:\n",
        "      if self.right:\n",
        "        self.right.add_child(data)\n",
        "      else:\n",
        "        self.right=BinarySearchTreeNode(data)\n",
        "  def search(self,val):\n",
        "    \n",
        "    if self.data==val:\n",
        "      return True\n",
        "    if self.data>val:\n",
        "      if self.left:\n",
        "        return self.left.search(val)\n",
        "      else:\n",
        "        return False\n",
        "    if self.data<val:\n",
        "      if self.right:\n",
        "        return self.right.search(val)\n",
        "      else:\n",
        "        return False\n",
        "\n",
        "  def in_order_traversal(self):\n",
        "    elements=[]\n",
        "    if self.left:\n",
        "      elements+= in_order_traversal()\n",
        "    elements.append(self.data)\n",
        "    if self.right:\n",
        "      elements+= in_order_traversal()\n",
        "    return elements\n",
        "def build_tree(elements):\n",
        "  print(\"Building tree with these elements:\",elements)\n",
        "  root=BinarySearchTreeNode(elements[0])\n",
        "  for i in range(1,len(elements)):\n",
        "    root.add_child(elements[i])\n",
        "  return root\n",
        "\n",
        "\n"
      ],
      "execution_count": 15,
      "outputs": []
    },
    {
      "cell_type": "code",
      "metadata": {
        "id": "KYN_0XtuEt4s",
        "colab_type": "code",
        "colab": {
          "base_uri": "https://localhost:8080/",
          "height": 69
        },
        "outputId": "661c73fa-531d-4c08-a644-19d866ea91ba"
      },
      "source": [
        "if __name__ == '__main__':\n",
        "    countries = [\"India\",\"Pakistan\",\"Germany\", \"USA\",\"China\",\"India\",\"UK\",\"USA\"]\n",
        "    country_tree = build_tree(countries)\n",
        "\n",
        "    print(\"UK is in the list? \", country_tree.search(\"UK\"))\n",
        "    print(\"Sweden is in the list? \", country_tree.search(\"Sweden\"))\n"
      ],
      "execution_count": 16,
      "outputs": [
        {
          "output_type": "stream",
          "text": [
            "Building tree with these elements: ['India', 'Pakistan', 'Germany', 'USA', 'China', 'India', 'UK', 'USA']\n",
            "UK is in the list?  True\n",
            "Sweden is in the list?  False\n"
          ],
          "name": "stdout"
        }
      ]
    }
  ]
}